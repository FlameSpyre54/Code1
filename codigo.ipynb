{
 "cells": [
  {
   "cell_type": "markdown",
   "metadata": {},
   "source": [
    "#introduccion a python"
   ]
  },
  {
   "cell_type": "code",
   "execution_count": null,
   "metadata": {},
   "outputs": [],
   "source": [
    "print(\"hola\")\n",
    "x=20\n",
    "x\n"
   ]
  }
 ],
 "metadata": {
  "language_info": {
   "name": "python"
  }
 },
 "nbformat": 4,
 "nbformat_minor": 2
}
